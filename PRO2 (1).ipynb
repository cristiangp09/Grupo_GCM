{
  "nbformat": 4,
  "nbformat_minor": 0,
  "metadata": {
    "colab": {
      "name": "PRO2",
      "provenance": []
    },
    "kernelspec": {
      "name": "python3",
      "display_name": "Python 3"
    },
    "language_info": {
      "name": "python"
    }
  },
  "cells": [
    {
      "cell_type": "markdown",
      "source": [
        "Proyecto II: desarrollar un script que, a traves de funciones, permita obtener informacion estadıstica descriptiva de una tabla dada.\n"
      ],
      "metadata": {
        "id": "LqFFO6h-AMmq"
      }
    },
    {
      "cell_type": "code",
      "source": [
        "!pip install wooldridge\n",
        "import wooldridge as wd"
      ],
      "metadata": {
        "colab": {
          "base_uri": "https://localhost:8080/"
        },
        "id": "3VsoPY_Bny5V",
        "outputId": "8d8409fd-14fb-4ed5-d818-6f27cb6ec3fa"
      },
      "execution_count": null,
      "outputs": [
        {
          "output_type": "stream",
          "name": "stdout",
          "text": [
            "Collecting wooldridge\n",
            "  Downloading wooldridge-0.4.4-py3-none-any.whl (5.1 MB)\n",
            "\u001b[K     |████████████████████████████████| 5.1 MB 5.1 MB/s \n",
            "\u001b[?25hRequirement already satisfied: pandas in /usr/local/lib/python3.7/dist-packages (from wooldridge) (1.3.5)\n",
            "Requirement already satisfied: python-dateutil>=2.7.3 in /usr/local/lib/python3.7/dist-packages (from pandas->wooldridge) (2.8.2)\n",
            "Requirement already satisfied: numpy>=1.17.3 in /usr/local/lib/python3.7/dist-packages (from pandas->wooldridge) (1.21.5)\n",
            "Requirement already satisfied: pytz>=2017.3 in /usr/local/lib/python3.7/dist-packages (from pandas->wooldridge) (2018.9)\n",
            "Requirement already satisfied: six>=1.5 in /usr/local/lib/python3.7/dist-packages (from python-dateutil>=2.7.3->pandas->wooldridge) (1.15.0)\n",
            "Installing collected packages: wooldridge\n",
            "Successfully installed wooldridge-0.4.4\n"
          ]
        }
      ]
    },
    {
      "cell_type": "code",
      "source": [
        "df = wd.data('wage1')\n",
        "df = df[['wage','educ']]\n",
        "df.head(10)\n",
        "#Tabla dada"
      ],
      "metadata": {
        "colab": {
          "base_uri": "https://localhost:8080/",
          "height": 363
        },
        "id": "fkKnKXS0n2zk",
        "outputId": "232bc525-289b-4e5e-f697-3a2def1c3ac3"
      },
      "execution_count": null,
      "outputs": [
        {
          "output_type": "execute_result",
          "data": {
            "text/html": [
              "\n",
              "  <div id=\"df-8096af89-a5b2-46c7-87c5-2366c79f7397\">\n",
              "    <div class=\"colab-df-container\">\n",
              "      <div>\n",
              "<style scoped>\n",
              "    .dataframe tbody tr th:only-of-type {\n",
              "        vertical-align: middle;\n",
              "    }\n",
              "\n",
              "    .dataframe tbody tr th {\n",
              "        vertical-align: top;\n",
              "    }\n",
              "\n",
              "    .dataframe thead th {\n",
              "        text-align: right;\n",
              "    }\n",
              "</style>\n",
              "<table border=\"1\" class=\"dataframe\">\n",
              "  <thead>\n",
              "    <tr style=\"text-align: right;\">\n",
              "      <th></th>\n",
              "      <th>wage</th>\n",
              "      <th>educ</th>\n",
              "    </tr>\n",
              "  </thead>\n",
              "  <tbody>\n",
              "    <tr>\n",
              "      <th>0</th>\n",
              "      <td>3.10</td>\n",
              "      <td>11</td>\n",
              "    </tr>\n",
              "    <tr>\n",
              "      <th>1</th>\n",
              "      <td>3.24</td>\n",
              "      <td>12</td>\n",
              "    </tr>\n",
              "    <tr>\n",
              "      <th>2</th>\n",
              "      <td>3.00</td>\n",
              "      <td>11</td>\n",
              "    </tr>\n",
              "    <tr>\n",
              "      <th>3</th>\n",
              "      <td>6.00</td>\n",
              "      <td>8</td>\n",
              "    </tr>\n",
              "    <tr>\n",
              "      <th>4</th>\n",
              "      <td>5.30</td>\n",
              "      <td>12</td>\n",
              "    </tr>\n",
              "    <tr>\n",
              "      <th>5</th>\n",
              "      <td>8.75</td>\n",
              "      <td>16</td>\n",
              "    </tr>\n",
              "    <tr>\n",
              "      <th>6</th>\n",
              "      <td>11.25</td>\n",
              "      <td>18</td>\n",
              "    </tr>\n",
              "    <tr>\n",
              "      <th>7</th>\n",
              "      <td>5.00</td>\n",
              "      <td>12</td>\n",
              "    </tr>\n",
              "    <tr>\n",
              "      <th>8</th>\n",
              "      <td>3.60</td>\n",
              "      <td>12</td>\n",
              "    </tr>\n",
              "    <tr>\n",
              "      <th>9</th>\n",
              "      <td>18.18</td>\n",
              "      <td>17</td>\n",
              "    </tr>\n",
              "  </tbody>\n",
              "</table>\n",
              "</div>\n",
              "      <button class=\"colab-df-convert\" onclick=\"convertToInteractive('df-8096af89-a5b2-46c7-87c5-2366c79f7397')\"\n",
              "              title=\"Convert this dataframe to an interactive table.\"\n",
              "              style=\"display:none;\">\n",
              "        \n",
              "  <svg xmlns=\"http://www.w3.org/2000/svg\" height=\"24px\"viewBox=\"0 0 24 24\"\n",
              "       width=\"24px\">\n",
              "    <path d=\"M0 0h24v24H0V0z\" fill=\"none\"/>\n",
              "    <path d=\"M18.56 5.44l.94 2.06.94-2.06 2.06-.94-2.06-.94-.94-2.06-.94 2.06-2.06.94zm-11 1L8.5 8.5l.94-2.06 2.06-.94-2.06-.94L8.5 2.5l-.94 2.06-2.06.94zm10 10l.94 2.06.94-2.06 2.06-.94-2.06-.94-.94-2.06-.94 2.06-2.06.94z\"/><path d=\"M17.41 7.96l-1.37-1.37c-.4-.4-.92-.59-1.43-.59-.52 0-1.04.2-1.43.59L10.3 9.45l-7.72 7.72c-.78.78-.78 2.05 0 2.83L4 21.41c.39.39.9.59 1.41.59.51 0 1.02-.2 1.41-.59l7.78-7.78 2.81-2.81c.8-.78.8-2.07 0-2.86zM5.41 20L4 18.59l7.72-7.72 1.47 1.35L5.41 20z\"/>\n",
              "  </svg>\n",
              "      </button>\n",
              "      \n",
              "  <style>\n",
              "    .colab-df-container {\n",
              "      display:flex;\n",
              "      flex-wrap:wrap;\n",
              "      gap: 12px;\n",
              "    }\n",
              "\n",
              "    .colab-df-convert {\n",
              "      background-color: #E8F0FE;\n",
              "      border: none;\n",
              "      border-radius: 50%;\n",
              "      cursor: pointer;\n",
              "      display: none;\n",
              "      fill: #1967D2;\n",
              "      height: 32px;\n",
              "      padding: 0 0 0 0;\n",
              "      width: 32px;\n",
              "    }\n",
              "\n",
              "    .colab-df-convert:hover {\n",
              "      background-color: #E2EBFA;\n",
              "      box-shadow: 0px 1px 2px rgba(60, 64, 67, 0.3), 0px 1px 3px 1px rgba(60, 64, 67, 0.15);\n",
              "      fill: #174EA6;\n",
              "    }\n",
              "\n",
              "    [theme=dark] .colab-df-convert {\n",
              "      background-color: #3B4455;\n",
              "      fill: #D2E3FC;\n",
              "    }\n",
              "\n",
              "    [theme=dark] .colab-df-convert:hover {\n",
              "      background-color: #434B5C;\n",
              "      box-shadow: 0px 1px 3px 1px rgba(0, 0, 0, 0.15);\n",
              "      filter: drop-shadow(0px 1px 2px rgba(0, 0, 0, 0.3));\n",
              "      fill: #FFFFFF;\n",
              "    }\n",
              "  </style>\n",
              "\n",
              "      <script>\n",
              "        const buttonEl =\n",
              "          document.querySelector('#df-8096af89-a5b2-46c7-87c5-2366c79f7397 button.colab-df-convert');\n",
              "        buttonEl.style.display =\n",
              "          google.colab.kernel.accessAllowed ? 'block' : 'none';\n",
              "\n",
              "        async function convertToInteractive(key) {\n",
              "          const element = document.querySelector('#df-8096af89-a5b2-46c7-87c5-2366c79f7397');\n",
              "          const dataTable =\n",
              "            await google.colab.kernel.invokeFunction('convertToInteractive',\n",
              "                                                     [key], {});\n",
              "          if (!dataTable) return;\n",
              "\n",
              "          const docLinkHtml = 'Like what you see? Visit the ' +\n",
              "            '<a target=\"_blank\" href=https://colab.research.google.com/notebooks/data_table.ipynb>data table notebook</a>'\n",
              "            + ' to learn more about interactive tables.';\n",
              "          element.innerHTML = '';\n",
              "          dataTable['output_type'] = 'display_data';\n",
              "          await google.colab.output.renderOutput(dataTable, element);\n",
              "          const docLink = document.createElement('div');\n",
              "          docLink.innerHTML = docLinkHtml;\n",
              "          element.appendChild(docLink);\n",
              "        }\n",
              "      </script>\n",
              "    </div>\n",
              "  </div>\n",
              "  "
            ],
            "text/plain": [
              "    wage  educ\n",
              "0   3.10    11\n",
              "1   3.24    12\n",
              "2   3.00    11\n",
              "3   6.00     8\n",
              "4   5.30    12\n",
              "5   8.75    16\n",
              "6  11.25    18\n",
              "7   5.00    12\n",
              "8   3.60    12\n",
              "9  18.18    17"
            ]
          },
          "metadata": {},
          "execution_count": 2
        }
      ]
    },
    {
      "cell_type": "code",
      "source": [
        "#Script\n",
        "class estadisticos:\n",
        "\n",
        "  def __init__(self,x):\n",
        "    self.x=x\n",
        "  \n",
        "  def media(self):\n",
        "    return round(sum(self.x)/len(self.x),3)\n",
        "\n",
        "  def mediana(self):\n",
        "    mediana=0\n",
        "    self.x.sort()\n",
        "    tamaño=len(self.x)\n",
        "\n",
        "    if tamaño%2!=0:\n",
        "      mediana+=self.x[tamaño//2]\n",
        "      return round(mediana, 3)\n",
        "\n",
        "    else:\n",
        "      num_1=self.x[tamaño//2]\n",
        "      num_2=self.x[tamaño//2-1]\n",
        "      mediana+=(num_1+num_2)/2\n",
        "      return round(mediana, 3)\n",
        "\n",
        "  def desviacion_estandar(self):\n",
        "    nume=0\n",
        "    for i in self.x:\n",
        "      nume += (i - estadisticos.media(self))**2\n",
        "\n",
        "    denom = nume/(len(self.x)-1)\n",
        "    return round(denom**0.5 ,3)\n",
        "\n",
        "  def varianza(self):\n",
        "    vari = estadisticos.desviacion_estandar(self)**2\n",
        "    return round(vari,3)\n",
        "  \n",
        "  def coef_var(self):\n",
        "    cv = estadisticos.desviacion_estandar(self)/abs(estadisticos.media(self))\n",
        "    return round(cv,3)"
      ],
      "metadata": {
        "id": "Jifoqg5K7e-t"
      },
      "execution_count": null,
      "outputs": []
    },
    {
      "cell_type": "code",
      "source": [
        "wage_ = estadisticos(df['wage'].to_list())\n",
        "educ_ = estadisticos(df[\"educ\"].to_list())"
      ],
      "metadata": {
        "id": "2ODF5O3W6TSr"
      },
      "execution_count": null,
      "outputs": []
    },
    {
      "cell_type": "code",
      "source": [
        "#Data Salario\n",
        "print(wage_.media())\n",
        "print(wage_.mediana())\n",
        "print(wage_.desviacion_estandar())\n",
        "print(wage_.varianza())\n",
        "print(wage_.coef_var())"
      ],
      "metadata": {
        "colab": {
          "base_uri": "https://localhost:8080/"
        },
        "id": "K5onQGxPoD5n",
        "outputId": "d53d7571-d752-419b-d84c-387a3d19f4dc"
      },
      "execution_count": null,
      "outputs": [
        {
          "output_type": "stream",
          "name": "stdout",
          "text": [
            "5.896\n",
            "4.65\n",
            "3.693\n",
            "13.638\n",
            "0.626\n"
          ]
        }
      ]
    },
    {
      "cell_type": "code",
      "source": [
        "#Data educación\n",
        "print(educ_.media())\n",
        "print(educ_.mediana())\n",
        "print(educ_.desviacion_estandar())\n",
        "print(educ_.varianza())\n",
        "print(educ_.coef_var())"
      ],
      "metadata": {
        "colab": {
          "base_uri": "https://localhost:8080/"
        },
        "id": "BO86rIJVydI6",
        "outputId": "3669a448-e824-450d-c088-156f805cb5c5"
      },
      "execution_count": null,
      "outputs": [
        {
          "output_type": "stream",
          "name": "stdout",
          "text": [
            "12.563\n",
            "12.0\n",
            "2.769\n",
            "7.667\n",
            "0.22\n"
          ]
        }
      ]
    },
    {
      "cell_type": "markdown",
      "source": [
        "#Conclusiones: \n",
        "En promedio las personas tiene un grado de escolaridad cercano al 13 con una cifra representativa de 12.563 y asimismo reciben un salario de 5.896 aproximadamente. No obstante, identificamos que casi la mitad de la población reporta a una escolaridad  de nivel 12 y en tanto al salario la cifra que más se reporta corresponde a un pago de 4.65. Por otra parte, en tanto a la dipersión de los datos podemos identificar que la desviación estandar es mayor para las cifras proporcionadas en los salarios que en los datos de educación, aunque el grado de dispersion entre ambos discierne en 0.924, si se refleja  un cambio representativo en la varianza en la cual, para ambos casos encontramos una gran variabilidad de los datos con respecto a su media. Finalmente,  podemos mencionar que la variable de salario tiene una muestra muy dispersa y su media pierde confiabilidad dado que el dato se aproxima más a 1, caso contrario se evidencia en la variable de educación en la cual existe poca variabilidad de los datos. \n"
      ],
      "metadata": {
        "id": "rbx3sM2h0-W8"
      }
    },
    {
      "cell_type": "code",
      "source": [
        ""
      ],
      "metadata": {
        "id": "-dzY1v7m3KWN"
      },
      "execution_count": null,
      "outputs": []
    }
  ]
}