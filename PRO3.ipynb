{
  "cells": [
    {
      "cell_type": "code",
      "source": [
        "f = open(\"SaberPro_2020.txt\" , \"r\")"
      ],
      "metadata": {
        "id": "Dl_ghWq7zCh3"
      },
      "execution_count": 1,
      "outputs": []
    },
    {
      "cell_type": "code",
      "source": [
        "a = f.read()"
      ],
      "metadata": {
        "id": "jo7x7A8WMmDq"
      },
      "execution_count": 2,
      "outputs": []
    },
    {
      "cell_type": "code",
      "source": [
        "str(a)"
      ],
      "metadata": {
        "id": "FQBU4Jgr44Su"
      },
      "execution_count": 3,
      "outputs": []
    },
    {
      "cell_type": "code",
      "source": [
        "a.split('\\n')"
      ],
      "metadata": {
        "id": "-EG09zP6TGdz"
      },
      "execution_count": null,
      "outputs": []
    },
    {
      "cell_type": "code",
      "source": [
        "vacia = []\n",
        "for i in a.split('\\n'):\n",
        "  vacia.append(i.split(\"¬\"))\n",
        "vacia"
      ],
      "metadata": {
        "id": "wkKqkNsdQemW"
      },
      "execution_count": null,
      "outputs": []
    },
    {
      "cell_type": "code",
      "source": [
        "import pandas as pd\n",
        "pd.DataFrame(vacia[1:],columns=vacia[0])"
      ],
      "metadata": {
        "id": "f9z7FKEcFJxf"
      },
      "execution_count": null,
      "outputs": []
    },
    {
      "cell_type": "code",
      "source": [
        "nueva=[]\n",
        "for i in vacia:\n",
        "   nueva.append(tuple(i))"
      ],
      "metadata": {
        "id": "HM3AwkczKw1J"
      },
      "execution_count": 7,
      "outputs": []
    },
    {
      "cell_type": "code",
      "source": [
        "nueva.pop()"
      ],
      "metadata": {
        "id": "HnQA-1etPEo4"
      },
      "execution_count": null,
      "outputs": []
    },
    {
      "cell_type": "code",
      "source": [
        "dataic=tuple(nueva)"
      ],
      "metadata": {
        "id": "_TMU2sgu27tx"
      },
      "execution_count": 9,
      "outputs": []
    },
    {
      "cell_type": "code",
      "source": [
        "type(dataic)"
      ],
      "metadata": {
        "colab": {
          "base_uri": "https://localhost:8080/"
        },
        "id": "3VCnZ01h3Eoq",
        "outputId": "9d185bbc-6bee-4bf7-de96-9ccff2f62ccd"
      },
      "execution_count": 10,
      "outputs": [
        {
          "output_type": "execute_result",
          "data": {
            "text/plain": [
              "tuple"
            ]
          },
          "metadata": {},
          "execution_count": 10
        }
      ]
    },
    {
      "cell_type": "code",
      "source": [
        "dataic"
      ],
      "metadata": {
        "id": "qagnrodv4gLR"
      },
      "execution_count": null,
      "outputs": []
    },
    {
      "cell_type": "code",
      "source": [
        "class Icfes:\n",
        "\n",
        "  def __init__(self, f):\n",
        "    self.f=f\n",
        "\n",
        "  def acceder_registro(self):\n",
        "    idx = int(input(\"ingrese numero de registro:\"))\n",
        "    print(\"su registro es:\", self.f[idx])\n",
        "  \n",
        "  def columnas(self, nombre_columna):\n",
        "    lista = []\n",
        "    idx = self.f[0].index(nombre_columna)\n",
        "    for tupla in dataic[1:]:\n",
        "      lista.append(tupla[idx])\n",
        "    return lista\n",
        "\n",
        "  def filtro(self, nombre_columna, condicional):\n",
        "    mediana=0\n",
        "    col = self.columnas(nombre_columna)\n",
        "    col = [int(i) for i in col]\n",
        "    cond = condicional\n",
        "    fi=list(filter(lambda x: eval(cond),col))\n",
        "    return fi"
      ],
      "metadata": {
        "id": "X32rOvt78QVe"
      },
      "execution_count": 59,
      "outputs": []
    },
    {
      "cell_type": "code",
      "source": [
        "analisis = Icfes(dataic)"
      ],
      "metadata": {
        "id": "dxT71vDqct5X"
      },
      "execution_count": 47,
      "outputs": []
    },
    {
      "cell_type": "code",
      "source": [
        "analisis.acceder_registro()\n",
        "analisis.columnas('PERIODO')"
      ],
      "metadata": {
        "id": "sMs7G1XbjeZy"
      },
      "execution_count": null,
      "outputs": []
    },
    {
      "cell_type": "code",
      "source": [
        "analisis.filtro(\"PUNT_GLOBAL\", \"x>250\") #al ser esto una lista de str se convierten los elementos en int y a partir de eso se halla la estadistica basica para un selecto grupo de datos\n",
        "x=[int(item)for item in analisis.filtro(\"PUNT_GLOBAL\", \"x>260\")]\n",
        "print(x)"
      ],
      "metadata": {
        "id": "iF_Dsi8IgJKN",
        "colab": {
          "base_uri": "https://localhost:8080/"
        },
        "outputId": "22691410-6317-4dc7-fd5e-2fca3fd748e2"
      },
      "execution_count": 86,
      "outputs": [
        {
          "output_type": "stream",
          "name": "stdout",
          "text": [
            "[263, 263, 268, 261, 264, 267, 265, 264]\n"
          ]
        }
      ]
    },
    {
      "cell_type": "code",
      "source": [
        "class estadisticos:\n",
        "\n",
        "  def __init__(self,x):\n",
        "    self.x=x\n",
        "  \n",
        "  def media(self):\n",
        "    return round(sum(self.x)/len(self.x),3)\n",
        "\n",
        "  def mediana(self):\n",
        "    mediana=0\n",
        "    self.x.sort()\n",
        "    tamaño=len(self.x)\n",
        "\n",
        "    if tamaño%2!=0:\n",
        "      mediana+=self.x[tamaño//2]\n",
        "      return round(mediana, 3)\n",
        "\n",
        "    else:\n",
        "      num_1=self.x[tamaño//2]\n",
        "      num_2=self.x[tamaño//2-1]\n",
        "      mediana+=(num_1+num_2)/2\n",
        "      return round(mediana, 3)\n",
        "\n",
        "  def desviacion_estandar(self):\n",
        "    nume=0\n",
        "    for i in self.x:\n",
        "      nume += (i - estadisticos.media(self))**2\n",
        "\n",
        "    denom = nume/(len(self.x)-1)\n",
        "    return round(denom**0.5 ,3)\n",
        "\n",
        "  def varianza(self):\n",
        "    vari = estadisticos.desviacion_estandar(self)**2\n",
        "    return round(vari,3)\n",
        "  \n",
        "  def coef_var(self):\n",
        "    cv = estadisticos.desviacion_estandar(self)/abs(estadisticos.media(self))\n",
        "    return round(cv,3)"
      ],
      "metadata": {
        "id": "6bwpddghK-lx"
      },
      "execution_count": 83,
      "outputs": []
    },
    {
      "cell_type": "code",
      "source": [
        "estadistica=estadisticos(x)"
      ],
      "metadata": {
        "id": "r25TfQ54K-iS"
      },
      "execution_count": 84,
      "outputs": []
    },
    {
      "cell_type": "code",
      "source": [
        "print(estadistica.media())\n",
        "print(estadistica.mediana())\n",
        "print(estadistica.desviacion_estandar())\n",
        "print(estadistica.varianza())\n",
        "print(estadistica.coef_var())"
      ],
      "metadata": {
        "id": "bQbp5KAiK-fp",
        "outputId": "60818438-75b4-45ad-eaff-2393e0160096",
        "colab": {
          "base_uri": "https://localhost:8080/"
        }
      },
      "execution_count": 85,
      "outputs": [
        {
          "output_type": "stream",
          "name": "stdout",
          "text": [
            "264.375\n",
            "264.0\n",
            "2.264\n",
            "5.126\n",
            "0.009\n"
          ]
        }
      ]
    }
  ],
  "metadata": {
    "accelerator": "GPU",
    "colab": {
      "name": "PRO3.ipynb",
      "provenance": [],
      "collapsed_sections": []
    },
    "kernelspec": {
      "display_name": "Python 3",
      "name": "python3"
    },
    "language_info": {
      "name": "python"
    }
  },
  "nbformat": 4,
  "nbformat_minor": 0
}